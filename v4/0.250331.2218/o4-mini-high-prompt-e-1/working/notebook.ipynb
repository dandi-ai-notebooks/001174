{
 "cells": [
  {
   "cell_type": "markdown",
   "id": "b8c32fae",
   "metadata": {},
   "source": [
    "Exploring Dandiset 001174: Calcium imaging in SMA and M1 of macaques\n",
    "\n",
    "**Note**: This notebook was AI-generated and has not been fully verified. Use caution when interpreting the code or results."
   ]
  },
  {
   "cell_type": "markdown",
   "id": "c57baf40",
   "metadata": {},
   "source": [
    "# Overview\n",
    "\n",
    "This notebook demonstrates how to explore and analyze Dandiset 001174 (version 0.250331.2218) from the DANDI Archive.  \n",
    "Dandiset title: *Calcium imaging in SMA and M1 of macaques*  \n",
    "Dandiset link: https://dandiarchive.org/dandiset/001174/0.250331.2218  \n",
    "\n",
    "What this notebook covers:\n",
    "1. Loading Dandiset metadata and listing assets.  \n",
    "2. Selecting and loading an NWB file.  \n",
    "3. Summarizing NWB file contents.  \n",
    "4. Visualizing example data from the NWB file.  \n",
    "5. Possible next steps for analysis."
   ]
  },
  {
   "cell_type": "markdown",
   "id": "907ded08",
   "metadata": {},
   "source": [
    "# Required Packages\n",
    "\n",
    "The following packages are assumed to be installed:\n",
    "- itertools  \n",
    "- dandi.dandiapi  \n",
    "- remfile  \n",
    "- h5py  \n",
    "- pynwb  \n",
    "- numpy  \n",
    "- pandas  \n",
    "- matplotlib  \n",
    "- seaborn  "
   ]
  },
  {
   "cell_type": "markdown",
   "id": "ff0e53ab",
   "metadata": {},
   "source": [
    "# 1. Load Dandiset Information"
   ]
  },
  {
   "cell_type": "code",
   "execution_count": null,
   "id": "100cdd1e",
   "metadata": {},
   "outputs": [],
   "source": [
    "from itertools import islice\n",
    "from dandi.dandiapi import DandiAPIClient\n",
    "\n",
    "# Connect to DANDI archive and retrieve metadata\n",
    "client = DandiAPIClient()\n",
    "dandiset = client.get_dandiset(\"001174\", \"0.250331.2218\")\n",
    "\n",
    "metadata = dandiset.get_raw_metadata()\n",
    "print(f\"Dandiset name: {metadata['name']}\")\n",
    "print(f\"Dandiset URL: {metadata['url']}\")\n",
    "\n",
    "# List the first 5 assets in the Dandiset\n",
    "assets = dandiset.get_assets()\n",
    "print(\"\\nFirst 5 assets:\")\n",
    "for asset in islice(assets, 5):\n",
    "    print(f\"- {asset.path} (ID: {asset.identifier})\")"
   ]
  },
  {
   "cell_type": "markdown",
   "id": "2e268169",
   "metadata": {},
   "source": [
    "# 2. Load a Selected NWB File\n",
    "\n",
    "We select the NWB file:\n",
    "```\n",
    "sub-Q/sub-Q_ophys.nwb\n",
    "```\n",
    "Asset ID: `de07db56-e7f3-4809-9972-755c51598e8d`  \n",
    "Download URL:  \n",
    "https://api.dandiarchive.org/api/assets/de07db56-e7f3-4809-9972-755c51598e8d/download/"
   ]
  },
  {
   "cell_type": "code",
   "execution_count": null,
   "id": "143c53f5",
   "metadata": {},
   "outputs": [],
   "source": [
    "import remfile\n",
    "import h5py\n",
    "import pynwb\n",
    "\n",
    "# Load the remote NWB file\n",
    "url = \"https://api.dandiarchive.org/api/assets/de07db56-e7f3-4809-9972-755c51598e8d/download/\"\n",
    "remote_file = remfile.File(url)\n",
    "h5_file = h5py.File(remote_file, mode='r')\n",
    "io = pynwb.NWBHDF5IO(file=h5_file)\n",
    "nwb = io.read()"
   ]
  },
  {
   "cell_type": "markdown",
   "id": "8dfd669d",
   "metadata": {},
   "source": [
    "# 3. NWB File Metadata Summary"
   ]
  },
  {
   "cell_type": "code",
   "execution_count": null,
   "id": "d22945a7",
   "metadata": {},
   "outputs": [],
   "source": [
    "print(\"Session description:\", nwb.session_description)\n",
    "print(\"Identifier:\", nwb.identifier)\n",
    "print(\"Session start time:\", nwb.session_start_time)\n",
    "print(\"Timestamps reference time:\", nwb.timestamps_reference_time)\n",
    "print(\"Subject:\", nwb.subject.subject_id, \"|\", nwb.subject.species, \"| Age:\", nwb.subject.age)"
   ]
  },
  {
   "cell_type": "markdown",
   "id": "5464547e",
   "metadata": {},
   "source": [
    "## Contents of the NWB File\n",
    "\n",
    "```\n",
    "nwbfile/\n",
    "├── acquisition\n",
    "│   └── OnePhotonSeries (shape: {}) \n",
    "├── processing\n",
    "│   └── ophys\n",
    "│       ├── EventAmplitude (shape: {})\n",
    "│       └── Fluorescence: RoiResponseSeries (shape: {})\n",
    "├── devices (Miniscope)\n",
    "├── imaging_planes (ImagingPlane)\n",
    "└── subject (Subject)\n",
    "```\n",
    "\n",
    "Replace `{}`, `{}`, `{}` with actual shapes below."
   ]
  },
  {
   "cell_type": "code",
   "execution_count": null,
   "id": "4ad073a3",
   "metadata": {},
   "outputs": [],
   "source": [
    "# Extract shapes for the tree summary\n",
    "ops = nwb.acquisition['OnePhotonSeries']\n",
    "ea = nwb.processing['ophys'].data_interfaces['EventAmplitude']\n",
    "rrs = nwb.processing['ophys'].data_interfaces['Fluorescence'].roi_response_series['RoiResponseSeries']\n",
    "\n",
    "print(f\"OnePhotonSeries data shape: {ops.data.shape}\")\n",
    "print(f\"EventAmplitude shape: {ea.data.shape}\")\n",
    "print(f\"RoiResponseSeries shape: {rrs.data.shape}\")"
   ]
  },
  {
   "cell_type": "markdown",
   "id": "7aa0cc83",
   "metadata": {},
   "source": [
    "## Explore NWB Data Programmatically\n",
    "\n",
    "You can explore table columns and metadata:\n",
    "\n",
    "```python\n",
    "Example: list ROI table columns\n",
    "print(ea.rois.table.colnames)\n",
    "```"
   ]
  },
  {
   "cell_type": "markdown",
   "id": "a1cb76c8",
   "metadata": {},
   "source": [
    "# 4. Quick Visualization Examples"
   ]
  },
  {
   "cell_type": "code",
   "execution_count": null,
   "id": "a4ae8eb9",
   "metadata": {},
   "outputs": [],
   "source": [
    "import numpy as np\n",
    "import matplotlib.pyplot as plt\n",
    "\n",
    "# 4.1 Plot the first frame of OnePhotonSeries\n",
    "first_frame = ops.data[0, :, :]\n",
    "plt.figure(figsize=(6, 4))\n",
    "plt.imshow(first_frame, cmap='gray')\n",
    "plt.colorbar(label='Intensity')\n",
    "plt.title(\"OnePhotonSeries: First Frame\")\n",
    "plt.xlabel(\"X pixels\")\n",
    "plt.ylabel(\"Y pixels\")\n",
    "plt.tight_layout()\n",
    "plt.show()"
   ]
  },
  {
   "cell_type": "code",
   "execution_count": null,
   "id": "8edcc1d0",
   "metadata": {},
   "outputs": [],
   "source": [
    "# 4.2 Plot EventAmplitude traces for the first 5 ROIs\n",
    "import pandas as pd\n",
    "\n",
    "roi_ids = ea.rois.table.id[:5]\n",
    "times = np.arange(ea.data.shape[0]) / ea.rate\n",
    "\n",
    "plt.figure(figsize=(10, 4))\n",
    "for idx, roi in enumerate(roi_ids):\n",
    "    plt.plot(times, ea.data[:, idx], label=f\"ROI {roi}\")\n",
    "plt.legend(loc='upper right')\n",
    "plt.xlabel(\"Time (s)\")\n",
    "plt.ylabel(\"Event Amplitude (fluorescence)\")\n",
    "plt.title(\"EventAmplitude for First 5 ROIs\")\n",
    "plt.tight_layout()\n",
    "plt.show()"
   ]
  },
  {
   "cell_type": "code",
   "execution_count": null,
   "id": "8fd17326",
   "metadata": {},
   "outputs": [],
   "source": [
    "# 4.3 Heatmap of maximum projection of all ROI masks\n",
    "masks = ea.rois.table.image_mask[:]  # shape (#ROIs, X, Y)\n",
    "max_mask = np.max(masks, axis=0)\n",
    "\n",
    "plt.figure(figsize=(5, 5))\n",
    "plt.imshow(max_mask, cmap='hot')\n",
    "plt.colorbar(label='Max mask value')\n",
    "plt.title(\"Max Projection of ROI Masks\")\n",
    "plt.tight_layout()\n",
    "plt.show()"
   ]
  },
  {
   "cell_type": "markdown",
   "id": "f7caf615",
   "metadata": {},
   "source": [
    "# Link to Neurosift\n",
    "\n",
    "Explore this NWB file interactively on Neurosift:  \n",
    "https://neurosift.app/nwb?url=https://api.dandiarchive.org/api/assets/de07db56-e7f3-4809-9972-755c51598e8d/download/&dandisetId=001174&dandisetVersion=0.250331.2218"
   ]
  },
  {
   "cell_type": "markdown",
   "id": "299ec16d",
   "metadata": {},
   "source": [
    "# 5. Summary and Future Directions\n",
    "\n",
    "This notebook showed how to:\n",
    "- Access Dandiset metadata and list assets.\n",
    "- Load an NWB file remotely using DANDI APIs.\n",
    "- Summarize NWB file structure and extract dataset shapes.\n",
    "- Visualize sample frames, event amplitude traces, and ROI masks.\n",
    "\n",
    "Possible next steps:\n",
    "- Dive deeper into cell co-activity analysis.\n",
    "- Correlate fluorescence with behavioral timestamps.\n",
    "- Build interactive dashboards (e.g., using Plotly Dash).\n",
    "- Apply advanced signal processing on fluorescence traces."
   ]
  }
 ],
 "metadata": {
  "jupytext": {
   "cell_metadata_filter": "-all",
   "main_language": "python",
   "notebook_metadata_filter": "-all"
  }
 },
 "nbformat": 4,
 "nbformat_minor": 5
}
